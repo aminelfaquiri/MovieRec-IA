{
 "cells": [
  {
   "cell_type": "code",
   "execution_count": 11,
   "metadata": {},
   "outputs": [],
   "source": [
    "import findspark\n",
    "findspark.init()\n",
    "\n",
    "from pyspark.sql import SparkSession\n",
    "from pyspark.ml.recommendation import ALSModel\n",
    "\n",
    "# Create a Spark session :\n",
    "spark = SparkSession.builder.appName(\"ModelUsage\").getOrCreate()\n",
    "\n",
    "model_path= 'C:/Users/Youcode/Desktop/Devlepeure Data/Project_Breif/film-recommender_with_ia/ALS/best_model'\n",
    "\n",
    "# Load the ALS model :\n",
    "loaded_model = ALSModel.load(model_path)"
   ]
  },
  {
   "cell_type": "code",
   "execution_count": 13,
   "metadata": {},
   "outputs": [
    {
     "name": "stdout",
     "output_type": "stream",
     "text": [
      "+------+------------------------------------------------------------------------------------------+\n",
      "|userId|recommendations                                                                           |\n",
      "+------+------------------------------------------------------------------------------------------+\n",
      "|55    |[{1219, 10.285053}, {834, 9.8399515}, {1094, 9.727996}, {309, 9.122574}, {41, 9.019409}]  |\n",
      "|102   |[{958, 4.44349}, {1643, 4.2063494}, {909, 3.9189484}, {1166, 3.8689787}, {963, 3.8076894}]|\n",
      "|145   |[{445, 6.649464}, {1019, 6.472661}, {960, 6.3302536}, {459, 6.1350527}, {1103, 5.9595366}]|\n",
      "|67    |[{1160, 8.959136}, {1615, 7.847147}, {206, 7.7230506}, {634, 7.7051067}, {1166, 7.581454}]|\n",
      "+------+------------------------------------------------------------------------------------------+\n",
      "\n"
     ]
    }
   ],
   "source": [
    "# # Specify the user for whom you want to make recommendations\n",
    "# user_id = 55\n",
    "\n",
    "# # Create a DataFrame with the selected user\n",
    "# selected_user_df = spark.createDataFrame([(user_id,)], ['userId'])\n",
    "\n",
    "# # Make recommendations for the selected user\n",
    "# user_recommendations = loaded_model.recommendForUserSubset(selected_user_df, 5)\n",
    "\n",
    "\n",
    "user_ids_list = [55, 67, 102, 145]\n",
    "\n",
    "# Create a DataFrame with the list of user IDs\n",
    "user_ids_df = spark.createDataFrame([(user_id,) for user_id in user_ids_list], ['userId'])\n",
    "\n",
    "user_recommendations = loaded_model.recommendForUserSubset(user_ids_df, 5)\n",
    "\n",
    "\n",
    "# Show the recommendations\n",
    "user_recommendations.show(truncate=False)"
   ]
  },
  {
   "cell_type": "code",
   "execution_count": 26,
   "metadata": {},
   "outputs": [
    {
     "name": "stdout",
     "output_type": "stream",
     "text": [
      "[(1219, 10.285053253173828), (834, 9.839951515197754), (1094, 9.727995872497559), (309, 9.122573852539062), (41, 9.0194091796875)]\n",
      "[(958, 4.443490028381348), (1643, 4.2063493728637695), (909, 3.9189484119415283), (1166, 3.86897873878479), (963, 3.8076894283294678)]\n",
      "[(445, 6.649464130401611), (1019, 6.472661018371582), (960, 6.330253601074219), (459, 6.135052680969238), (1103, 5.959536552429199)]\n",
      "[(1160, 8.959136009216309), (1615, 7.847146987915039), (206, 7.723050594329834), (634, 7.705106735229492), (1166, 7.581453800201416)]\n",
      "[(1219, 10.285053253173828), (834, 9.839951515197754), (1094, 9.727995872497559), (309, 9.122573852539062), (41, 9.0194091796875), (958, 4.443490028381348), (1643, 4.2063493728637695), (909, 3.9189484119415283), (1166, 3.86897873878479), (963, 3.8076894283294678), (445, 6.649464130401611), (1019, 6.472661018371582), (960, 6.330253601074219), (459, 6.135052680969238), (1103, 5.959536552429199), (1160, 8.959136009216309), (1615, 7.847146987915039), (206, 7.723050594329834), (634, 7.705106735229492), (1166, 7.581453800201416)]\n"
     ]
    }
   ],
   "source": [
    "# Assuming user_recommendations is a DataFrame with a 'recommendations' column\n",
    "recommendations = user_recommendations.select('recommendations')\n",
    "\n",
    "# recommendations.show()\n",
    "\n",
    "# Collect the rows into a Python list\n",
    "\n",
    "recommendations_list = [list(map(lambda x: (x['movieId'], x['rating']), row['recommendations'])) for row in recommendations.collect()]\n",
    "\n",
    "# Show the list\n",
    "\n",
    "all_recommendations = []\n",
    "for row in recommendations_list:\n",
    "    print(row)\n",
    "    all_recommendations.extend(row)\n",
    "\n",
    "print(all_recommendations)\n"
   ]
  },
  {
   "cell_type": "code",
   "execution_count": 25,
   "metadata": {},
   "outputs": [
    {
     "name": "stdout",
     "output_type": "stream",
     "text": [
      "(1219, 10.285053253173828)\n",
      "(834, 9.839951515197754)\n",
      "(1094, 9.727995872497559)\n",
      "(309, 9.122573852539062)\n",
      "(41, 9.0194091796875)\n",
      "(958, 4.443490028381348)\n",
      "(1643, 4.2063493728637695)\n",
      "(909, 3.9189484119415283)\n",
      "(1166, 3.86897873878479)\n",
      "(963, 3.8076894283294678)\n",
      "(445, 6.649464130401611)\n",
      "(1019, 6.472661018371582)\n",
      "(960, 6.330253601074219)\n",
      "(459, 6.135052680969238)\n",
      "(1103, 5.959536552429199)\n",
      "(1160, 8.959136009216309)\n",
      "(1615, 7.847146987915039)\n",
      "(206, 7.723050594329834)\n",
      "(634, 7.705106735229492)\n",
      "(1166, 7.581453800201416)\n"
     ]
    }
   ],
   "source": [
    "for i in all_recommendations :\n",
    "    print(i)"
   ]
  },
  {
   "cell_type": "code",
   "execution_count": null,
   "metadata": {},
   "outputs": [],
   "source": [
    "# # Extracting the movie IDs and scores from the recommendations\n",
    "\n",
    "movie_ids = [int(row['movieId']) for row in recommendations]\n",
    "\n",
    "# # Displaying the extracted values\n",
    "print(\"Movie IDs:\", movie_ids)"
   ]
  }
 ],
 "metadata": {
  "kernelspec": {
   "display_name": "Python 3",
   "language": "python",
   "name": "python3"
  },
  "language_info": {
   "codemirror_mode": {
    "name": "ipython",
    "version": 3
   },
   "file_extension": ".py",
   "mimetype": "text/x-python",
   "name": "python",
   "nbconvert_exporter": "python",
   "pygments_lexer": "ipython3",
   "version": "3.10.0"
  }
 },
 "nbformat": 4,
 "nbformat_minor": 2
}
